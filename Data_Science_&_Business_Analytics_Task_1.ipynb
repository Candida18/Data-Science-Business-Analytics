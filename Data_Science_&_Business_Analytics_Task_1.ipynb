{
  "nbformat": 4,
  "nbformat_minor": 0,
  "metadata": {
    "kernelspec": {
      "display_name": "Python 3",
      "language": "python",
      "name": "python3"
    },
    "language_info": {
      "codemirror_mode": {
        "name": "ipython",
        "version": 3
      },
      "file_extension": ".py",
      "mimetype": "text/x-python",
      "name": "python",
      "nbconvert_exporter": "python",
      "pygments_lexer": "ipython3",
      "version": "3.8.3"
    },
    "colab": {
      "name": "Data Science & Business Analytics Task 1.ipynb",
      "provenance": [],
      "include_colab_link": true
    }
  },
  "cells": [
    {
      "cell_type": "markdown",
      "metadata": {
        "id": "view-in-github",
        "colab_type": "text"
      },
      "source": [
        "<a href=\"https://colab.research.google.com/github/Candida18/Data-Science-Business-Analytics/blob/main/Data_Science_%26_Business_Analytics_Task_1.ipynb\" target=\"_parent\"><img src=\"https://colab.research.google.com/assets/colab-badge.svg\" alt=\"Open In Colab\"/></a>"
      ]
    },
    {
      "cell_type": "markdown",
      "metadata": {
        "id": "0aIraP8B6AK7"
      },
      "source": [
        "<center> <h1><b> Prediction using Supervised ML</b></h1> </center>\n",
        "<br>\n",
        "<center><h3>Predicting the percentage of a student based on the no. of study hours using Linear Regression</h3></center>\n",
        "<br>\n",
        "<center> <h3>By Candida Noronha</h3> </center>\n",
        "<br>\n",
        "<hr>\n",
        "<br>"
      ]
    },
    {
      "cell_type": "markdown",
      "metadata": {
        "id": "uUO-LJp26AK_"
      },
      "source": [
        "_**About the Dataset**_\n",
        "<br>\n",
        "\n",
        "The given dataset contains two columns, one contains no. of study hours and the other contains the marks scored by them.\n",
        "<br>\n",
        "\n",
        "The dataset is located at <a href=\"http://bit.ly/w-data\">http://bit.ly/w-data</a>"
      ]
    },
    {
      "cell_type": "markdown",
      "metadata": {
        "id": "V-pGFvBr6ALA"
      },
      "source": [
        "_**Importing all libraries required**_"
      ]
    },
    {
      "cell_type": "code",
      "metadata": {
        "id": "LX4_EfnU6ALB"
      },
      "source": [
        "import pandas as pd\n",
        "import numpy as np  \n",
        "import matplotlib.pyplot as plt  \n",
        "%matplotlib inline"
      ],
      "execution_count": null,
      "outputs": []
    },
    {
      "cell_type": "markdown",
      "metadata": {
        "id": "ehHngD_Q6ALC"
      },
      "source": [
        "**_Reading the Data_**"
      ]
    },
    {
      "cell_type": "code",
      "metadata": {
        "id": "Tc71ih096ALD",
        "outputId": "fe442808-1b53-47b7-eadb-e8b62cf30b1a"
      },
      "source": [
        "url = \"http://bit.ly/w-data\"\n",
        "data = pd.read_csv(url)\n",
        "print(\"\\nData imported successfully\\n\")\n",
        "\n",
        "data.head(10)"
      ],
      "execution_count": null,
      "outputs": [
        {
          "output_type": "stream",
          "text": [
            "\n",
            "Data imported successfully\n",
            "\n"
          ],
          "name": "stdout"
        },
        {
          "output_type": "execute_result",
          "data": {
            "text/html": [
              "<div>\n",
              "<style scoped>\n",
              "    .dataframe tbody tr th:only-of-type {\n",
              "        vertical-align: middle;\n",
              "    }\n",
              "\n",
              "    .dataframe tbody tr th {\n",
              "        vertical-align: top;\n",
              "    }\n",
              "\n",
              "    .dataframe thead th {\n",
              "        text-align: right;\n",
              "    }\n",
              "</style>\n",
              "<table border=\"1\" class=\"dataframe\">\n",
              "  <thead>\n",
              "    <tr style=\"text-align: right;\">\n",
              "      <th></th>\n",
              "      <th>Hours</th>\n",
              "      <th>Scores</th>\n",
              "    </tr>\n",
              "  </thead>\n",
              "  <tbody>\n",
              "    <tr>\n",
              "      <th>0</th>\n",
              "      <td>2.5</td>\n",
              "      <td>21</td>\n",
              "    </tr>\n",
              "    <tr>\n",
              "      <th>1</th>\n",
              "      <td>5.1</td>\n",
              "      <td>47</td>\n",
              "    </tr>\n",
              "    <tr>\n",
              "      <th>2</th>\n",
              "      <td>3.2</td>\n",
              "      <td>27</td>\n",
              "    </tr>\n",
              "    <tr>\n",
              "      <th>3</th>\n",
              "      <td>8.5</td>\n",
              "      <td>75</td>\n",
              "    </tr>\n",
              "    <tr>\n",
              "      <th>4</th>\n",
              "      <td>3.5</td>\n",
              "      <td>30</td>\n",
              "    </tr>\n",
              "    <tr>\n",
              "      <th>5</th>\n",
              "      <td>1.5</td>\n",
              "      <td>20</td>\n",
              "    </tr>\n",
              "    <tr>\n",
              "      <th>6</th>\n",
              "      <td>9.2</td>\n",
              "      <td>88</td>\n",
              "    </tr>\n",
              "    <tr>\n",
              "      <th>7</th>\n",
              "      <td>5.5</td>\n",
              "      <td>60</td>\n",
              "    </tr>\n",
              "    <tr>\n",
              "      <th>8</th>\n",
              "      <td>8.3</td>\n",
              "      <td>81</td>\n",
              "    </tr>\n",
              "    <tr>\n",
              "      <th>9</th>\n",
              "      <td>2.7</td>\n",
              "      <td>25</td>\n",
              "    </tr>\n",
              "  </tbody>\n",
              "</table>\n",
              "</div>"
            ],
            "text/plain": [
              "   Hours  Scores\n",
              "0    2.5      21\n",
              "1    5.1      47\n",
              "2    3.2      27\n",
              "3    8.5      75\n",
              "4    3.5      30\n",
              "5    1.5      20\n",
              "6    9.2      88\n",
              "7    5.5      60\n",
              "8    8.3      81\n",
              "9    2.7      25"
            ]
          },
          "metadata": {
            "tags": []
          },
          "execution_count": 24
        }
      ]
    },
    {
      "cell_type": "markdown",
      "metadata": {
        "id": "sVUUuKS46ALE"
      },
      "source": [
        "_**Visualizing the data**_"
      ]
    },
    {
      "cell_type": "code",
      "metadata": {
        "id": "x50sg3Ph6ALF",
        "outputId": "84491906-d4a6-4d3a-8409-642f1249476f"
      },
      "source": [
        "# Plotting the distribution of scores\n",
        "data.plot(x='Hours', y='Scores', style='bo')  \n",
        "plt.title('Hours vs Percentage')  \n",
        "plt.xlabel('Hours Studied')  \n",
        "plt.ylabel('Percentage Score')  \n",
        "plt.style.use('bmh')\n",
        "plt.show()"
      ],
      "execution_count": null,
      "outputs": [
        {
          "output_type": "display_data",
          "data": {
            "image/png": "[encoded data removed]",
            "text/plain": [
              "<Figure size 432x288 with 1 Axes>"
            ]
          },
          "metadata": {
            "tags": []
          }
        }
      ]
    },
    {
      "cell_type": "markdown",
      "metadata": {
        "id": "x8e83ttO6ALH"
      },
      "source": [
        "_**From the graph above, we can clearly see that there is a positive linear relation between the number of hours studied and percentage of score**_\n",
        "<br>\n",
        "<hr>\n",
        "\n",
        "### **Preparing the data**\n",
        "\n",
        "_**Splitting the data into \"attributes\" (inputs variables) and \"labels\" (outputs variables) as x and y**_"
      ]
    },
    {
      "cell_type": "code",
      "metadata": {
        "id": "BXptV9Hg6ALJ"
      },
      "source": [
        "x = data.iloc[:, :-1].values  \n",
        "y = data.iloc[:, 1].values  "
      ],
      "execution_count": null,
      "outputs": []
    },
    {
      "cell_type": "markdown",
      "metadata": {
        "id": "D-G1ls636ALJ"
      },
      "source": [
        "_**Splitting the data into training and test sets**_"
      ]
    },
    {
      "cell_type": "code",
      "metadata": {
        "id": "28fkxsHp6ALK"
      },
      "source": [
        "from sklearn.model_selection import train_test_split"
      ],
      "execution_count": null,
      "outputs": []
    },
    {
      "cell_type": "code",
      "metadata": {
        "id": "A7YiVdUQ6ALK"
      },
      "source": [
        "x_train, x_test, y_train, y_test = train_test_split(x, y, test_size=0.2, random_state=0) "
      ],
      "execution_count": null,
      "outputs": []
    },
    {
      "cell_type": "markdown",
      "metadata": {
        "id": "Xp1qxKen6ALL"
      },
      "source": [
        "<hr>\n",
        "\n",
        "### **Training the Model**\n",
        "\n"
      ]
    },
    {
      "cell_type": "code",
      "metadata": {
        "id": "LKlkJn6M6ALM",
        "outputId": "82dccd40-a695-4fb2-bcad-725850e0a132"
      },
      "source": [
        "from sklearn.linear_model import LinearRegression  \n",
        "regressor = LinearRegression()  \n",
        "regressor.fit(x_train, y_train) \n",
        "\n",
        "print(\"\\nModel Training Complete\\n\")"
      ],
      "execution_count": null,
      "outputs": [
        {
          "output_type": "stream",
          "text": [
            "\n",
            "Model Training Complete\n",
            "\n"
          ],
          "name": "stdout"
        }
      ]
    },
    {
      "cell_type": "code",
      "metadata": {
        "id": "iNltK7w36ALN",
        "outputId": "0329e3e4-1ec8-4125-f650-a7d098fbd9fa"
      },
      "source": [
        "# Plotting the regression line using the equation, y=mx+c\n",
        "line = regressor.coef_*x+regressor.intercept_\n",
        "data.plot(x=\"Hours\", y=\"Scores\", style=\"bo\")\n",
        "\n",
        "# Plotting for the test data\n",
        "plt.scatter(x, y)\n",
        "plt.plot(x, line, color=\"black\");\n",
        "print(\"\\n\\tScore : \",regressor.score(x_train,y_train)*100,\"\\n\")\n",
        "plt.show()"
      ],
      "execution_count": null,
      "outputs": [
        {
          "output_type": "stream",
          "text": [
            "\n",
            "\tScore :  95.15510725211553 \n",
            "\n"
          ],
          "name": "stdout"
        },
        {
          "output_type": "display_data",
          "data": {
            "image/png": "[encoded data removed]",
            "text/plain": [
              "<Figure size 432x288 with 1 Axes>"
            ]
          },
          "metadata": {
            "tags": []
          }
        }
      ]
    },
    {
      "cell_type": "markdown",
      "metadata": {
        "id": "5ZZvCMQC6ALN"
      },
      "source": [
        "<hr>\n",
        "\n",
        "### **Making Predictions**\n"
      ]
    },
    {
      "cell_type": "code",
      "metadata": {
        "id": "tS90oul66ALO"
      },
      "source": [
        "y_pred = regressor.predict(x_test)"
      ],
      "execution_count": null,
      "outputs": []
    },
    {
      "cell_type": "markdown",
      "metadata": {
        "id": "UM-h8EyZ6ALO"
      },
      "source": [
        "_**Comparing Actual and Predicted Data**_"
      ]
    },
    {
      "cell_type": "code",
      "metadata": {
        "id": "uBzfqCng6ALO",
        "outputId": "c8e58607-a0da-44ba-f215-96ae05b1f9b9"
      },
      "source": [
        "df = pd.DataFrame({'Actual Score': y_test, 'Predicted Score': y_pred})  \n",
        "df\n"
      ],
      "execution_count": null,
      "outputs": [
        {
          "output_type": "execute_result",
          "data": {
            "text/html": [
              "<div>\n",
              "<style scoped>\n",
              "    .dataframe tbody tr th:only-of-type {\n",
              "        vertical-align: middle;\n",
              "    }\n",
              "\n",
              "    .dataframe tbody tr th {\n",
              "        vertical-align: top;\n",
              "    }\n",
              "\n",
              "    .dataframe thead th {\n",
              "        text-align: right;\n",
              "    }\n",
              "</style>\n",
              "<table border=\"1\" class=\"dataframe\">\n",
              "  <thead>\n",
              "    <tr style=\"text-align: right;\">\n",
              "      <th></th>\n",
              "      <th>Actual Score</th>\n",
              "      <th>Predicted Score</th>\n",
              "    </tr>\n",
              "  </thead>\n",
              "  <tbody>\n",
              "    <tr>\n",
              "      <th>0</th>\n",
              "      <td>20</td>\n",
              "      <td>16.884145</td>\n",
              "    </tr>\n",
              "    <tr>\n",
              "      <th>1</th>\n",
              "      <td>27</td>\n",
              "      <td>33.732261</td>\n",
              "    </tr>\n",
              "    <tr>\n",
              "      <th>2</th>\n",
              "      <td>69</td>\n",
              "      <td>75.357018</td>\n",
              "    </tr>\n",
              "    <tr>\n",
              "      <th>3</th>\n",
              "      <td>30</td>\n",
              "      <td>26.794801</td>\n",
              "    </tr>\n",
              "    <tr>\n",
              "      <th>4</th>\n",
              "      <td>62</td>\n",
              "      <td>60.491033</td>\n",
              "    </tr>\n",
              "  </tbody>\n",
              "</table>\n",
              "</div>"
            ],
            "text/plain": [
              "   Actual Score  Predicted Score\n",
              "0            20        16.884145\n",
              "1            27        33.732261\n",
              "2            69        75.357018\n",
              "3            30        26.794801\n",
              "4            62        60.491033"
            ]
          },
          "metadata": {
            "tags": []
          },
          "execution_count": 54
        }
      ]
    },
    {
      "cell_type": "markdown",
      "metadata": {
        "id": "uOrOWSLl6ALP"
      },
      "source": [
        "<hr>\n",
        "\n",
        "### **Model Evaluation for Linear Regression**"
      ]
    },
    {
      "cell_type": "code",
      "metadata": {
        "id": "gvxuLBrV6ALP"
      },
      "source": [
        "from sklearn import metrics"
      ],
      "execution_count": null,
      "outputs": []
    },
    {
      "cell_type": "code",
      "metadata": {
        "id": "cr2XxWCL6ALP",
        "outputId": "f2d46662-ebc5-42ca-d65f-593c5f4f2f02"
      },
      "source": [
        "print('\\nMean Absolute Error : ', metrics.mean_absolute_error(y_test, y_pred))"
      ],
      "execution_count": null,
      "outputs": [
        {
          "output_type": "stream",
          "text": [
            "\n",
            "Mean Absolute Error :  4.183859899002975\n"
          ],
          "name": "stdout"
        }
      ]
    },
    {
      "cell_type": "code",
      "metadata": {
        "id": "AjtERkkt6ALQ",
        "outputId": "6cbecbb8-e99b-4d7a-e531-6ee5788e4dfa"
      },
      "source": [
        "print('\\nMean Squared Error : ', metrics.mean_squared_error(y_test, y_pred))"
      ],
      "execution_count": null,
      "outputs": [
        {
          "output_type": "stream",
          "text": [
            "\n",
            "Mean Squared Error :  21.5987693072174\n"
          ],
          "name": "stdout"
        }
      ]
    },
    {
      "cell_type": "code",
      "metadata": {
        "id": "RgDCQ6kI6ALQ",
        "outputId": "5b4642e6-88b8-4df0-fc1b-4fe73801bdb4"
      },
      "source": [
        "print('\\nRoot Mean Squared Error : ', metrics.mean_squared_error(y_test, y_pred,squared=False))"
      ],
      "execution_count": null,
      "outputs": [
        {
          "output_type": "stream",
          "text": [
            "\n",
            "Root Mean Squared Error :  4.6474476121003665\n"
          ],
          "name": "stdout"
        }
      ]
    },
    {
      "cell_type": "markdown",
      "metadata": {
        "id": "cziqfii06ALR"
      },
      "source": [
        "<hr>\n",
        "\n",
        "### **Predicting the score of a student when he/she studies 9.25 hours/day**"
      ]
    },
    {
      "cell_type": "code",
      "metadata": {
        "id": "5kvQ1ovI6ALR",
        "outputId": "016fa77c-d56e-4da8-a193-9b7e847a849d"
      },
      "source": [
        "hours = [[9.25]]\n",
        "hrs = 9.25\n",
        "own_pred = regressor.predict(hours)\n",
        "print(\"\\nNo of Hours : {}\".format(hrs))\n",
        "print(\"\\nPredicted Score : {}\".format(own_pred[0]))"
      ],
      "execution_count": null,
      "outputs": [
        {
          "output_type": "stream",
          "text": [
            "\n",
            "No of Hours : 9.25\n",
            "\n",
            "Predicted Score : 93.69173248737538\n"
          ],
          "name": "stdout"
        }
      ]
    }
  ]
}